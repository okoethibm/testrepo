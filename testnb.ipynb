{
    "cells": [
        {
            "cell_type": "code", 
            "outputs": [
                {
                    "output_type": "execute_result", 
                    "data": {
                        "text/plain": "org.apache.spark.SparkContext@e84baf1a"
                    }, 
                    "metadata": {}, 
                    "execution_count": 1
                }
            ], 
            "metadata": {
                "collapsed": false
            }, 
            "source": "sc", 
            "execution_count": 1
        }, 
        {
            "cell_type": "code", 
            "outputs": [
                {
                    "output_type": "execute_result", 
                    "data": {
                        "text/plain": "org.apache.spark.sql.SparkSession@ca237493"
                    }, 
                    "metadata": {}, 
                    "execution_count": 2
                }
            ], 
            "metadata": {
                "collapsed": false
            }, 
            "source": "spark", 
            "execution_count": 2
        }, 
        {
            "cell_type": "code", 
            "outputs": [
                {
                    "output_type": "execute_result", 
                    "data": {
                        "text/plain": "2.0.2"
                    }, 
                    "metadata": {}, 
                    "execution_count": 3
                }
            ], 
            "metadata": {
                "collapsed": false
            }, 
            "source": "spark.version", 
            "execution_count": 3
        }, 
        {
            "cell_type": "code", 
            "outputs": [], 
            "metadata": {
                "collapsed": true
            }, 
            "source": "", 
            "execution_count": null
        }
    ], 
    "nbformat": 4, 
    "metadata": {
        "kernelspec": {
            "display_name": "Scala 2.11 with Spark 2.0", 
            "name": "scala-spark20", 
            "language": "scala"
        }, 
        "language_info": {
            "version": "2.11.8", 
            "name": "scala"
        }
    }, 
    "nbformat_minor": 0
}